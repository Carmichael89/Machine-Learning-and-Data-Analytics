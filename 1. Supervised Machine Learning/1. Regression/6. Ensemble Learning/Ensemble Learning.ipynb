{
 "cells": [
  {
   "cell_type": "markdown",
   "metadata": {},
   "source": [
    "# Ensemble Learning Implementation\n",
    "\n",
    "---\n",
    "\n",
    "Ensemble learning is an algorithm that combines multiple models and averages the output to produce a prediction. In this module, we will investigate the [random forests](https://scikit-learn.org/stable/modules/ensemble#forests-of-randomized-trees.html) and [voting regressor](https://scikit-learn.org/stable/modules/ensemble#voting-regressor.html) models.\n",
    "\n",
    "This project will follow the 4 phase process of a typical machine learning project.\n",
    "\n",
    "Phase 1: Data Cleaning/Analysis\n",
    "\n",
    "Phase 2: Train the model\n",
    "\n",
    "Phase 3: Test the model\n",
    "\n",
    "Phase 4: Compare the results\n",
    "\n",
    "---\n",
    "# Phase 1 - Data Cleaning/Analysis\n",
    "\n",
    "Our [data](https://archive.ics.uci.edu/ml/datasets/Real+estate+valuation+data+set) is a set of real estate valuates from New Taipei City,Taiwan. We will first load a dataframe and inspect the data. In this module, we will combine PCA in order to visualize the data, and compare the MSE of the full-featured and PCA models. Therefore, part of the data preperation will include a feature-reduction, and further references to the data will reference the full feature as well as the reduced featured dataset."
   ]
  },
  {
   "cell_type": "code",
   "execution_count": 41,
   "metadata": {},
   "outputs": [],
   "source": [
    "from sklearn.ensemble import RandomForestRegressor\n",
    "from sklearn.ensemble import VotingRegressor\n",
    "from sklearn.model_selection import train_test_split\n",
    "from sklearn.decomposition import PCA\n",
    "from sklearn.preprocessing import StandardScaler\n",
    "from sklearn.metrics import mean_squared_error\n",
    "from sklearn.linear_model import LinearRegression\n",
    "from sklearn.tree import DecisionTreeRegressor\n",
    "from sklearn.neighbors import KNeighborsRegressor\n",
    "from sklearn.svm import SVR\n",
    "\n",
    "import numpy as np\n",
    "import pandas as pd\n",
    "import matplotlib.pyplot as plt\n",
    "\n",
    "data_df = pd.read_csv(\"Real estate.csv\")\n",
    "data_df = data_df.drop(['No'], axis=1)\n",
    "\n",
    "scaler = StandardScaler()\n",
    "pca = PCA(n_components = 1)\n",
    "\n",
    "for feature in data_df.columns[:-1]:\n",
    "    data_df[[feature]] = scaler.fit_transform(data_df[[feature]])\n",
    "\n",
    "X = data_df[data_df.columns[:-1]]\n",
    "y = data_df[data_df.columns[-1]]\n",
    "\n",
    "X_reduced = pca.fit_transform(X)\n",
    "Xr_train, Xr_test, yr_train, yr_test = train_test_split(X_reduced, y, random_state=42)\n",
    "\n",
    "X_train, X_test, y_train, y_test = train_test_split(X, y, random_state=42)\n"
   ]
  },
  {
   "cell_type": "markdown",
   "metadata": {},
   "source": [
    "# Phase 2: Train the Model\n",
    "---\n",
    "\n",
    "In this phase, we will fit the model. This is easily accomplished by passing the data and labels to the .fit module. Here, we will train both the random forests and the voting regressor. For the voting regressor, we will use all models discussed in the regression section of this repository. We create a model for the full-feature and reduced feature datasets."
   ]
  },
  {
   "cell_type": "code",
   "execution_count": 45,
   "metadata": {},
   "outputs": [
    {
     "data": {
      "text/plain": [
       "VotingRegressor(estimators=[('rf', RandomForestRegressor()),\n",
       "                            ('lr', LinearRegression()),\n",
       "                            ('knn', KNeighborsRegressor(n_neighbors=4)),\n",
       "                            ('dt', DecisionTreeRegressor(max_depth=3)),\n",
       "                            ('svm', SVR())])"
      ]
     },
     "execution_count": 45,
     "metadata": {},
     "output_type": "execute_result"
    }
   ],
   "source": [
    "rf = RandomForestRegressor()\n",
    "rf2 = RandomForestRegressor()\n",
    "\n",
    "rf.fit(X_train, y_train)\n",
    "rf2.fit(Xr_train, yr_train)\n",
    "\n",
    "knn = KNeighborsRegressor(n_neighbors=4)\n",
    "lr = LinearRegression()\n",
    "dt = DecisionTreeRegressor(max_depth=3)\n",
    "svm = SVR()\n",
    "\n",
    "eclf = VotingRegressor(estimators=[('rf', rf), ('lr', lr),('knn', knn),('dt', dt),('svm', svm)])\n",
    "eclf2 = VotingRegressor(estimators=[('rf', rf), ('lr', lr),('knn', knn),('dt', dt),('svm', svm)])\n",
    "\n",
    "eclf.fit(X_train, y_train)\n",
    "eclf2.fit(Xr_train, yr_train)\n",
    "\n",
    "\n"
   ]
  },
  {
   "cell_type": "markdown",
   "metadata": {},
   "source": [
    "# Phase 3: Test the Model\n",
    "---\n",
    "\n",
    "In this phase, we will predict on the test set, and review the MSE. We are taking the average of all outputs of the estimators created in Phase 2. We expect the errors in each model to be mitigated more than the analysis performed for each model individually. The output of both the random forests model and the voting regressor model should be better than single previous model. "
   ]
  },
  {
   "cell_type": "code",
   "execution_count": 53,
   "metadata": {},
   "outputs": [
    {
     "name": "stdout",
     "output_type": "stream",
     "text": [
      "Full Featured Random Forest MSE: 41.1\n",
      "Full Featured Voting Regressor MSE: 44.26\n",
      "Full Featured Random Forest MAE: 4.21\n",
      "Full Featured Voting Regressor MAE: 4.51\n",
      "\n",
      "\n",
      "Reduced Featured Random Forest MSE: 83.99\n",
      "Reduced Featured Voting Regressor MSE: 64.57\n",
      "Reduced Featured Random Forest MAE: 6.85\n",
      "Reduced Featured Voting Regressor MAE: 6.1\n"
     ]
    }
   ],
   "source": [
    "from sklearn.metrics import mean_absolute_error\n",
    "\n",
    "rf_pred = rf.predict(X_test)\n",
    "eclf_pred = eclf.predict(X_test)\n",
    "\n",
    "red_rf_pred = rf2.predict(Xr_test)\n",
    "red_eclf_pred = eclf2.predict(Xr_test)\n",
    "\n",
    "print(f\"Full Featured Random Forest MSE: {np.round(mean_squared_error(y_test, rf_pred),2)}\")\n",
    "print(f\"Full Featured Voting Regressor MSE: {np.round(mean_squared_error(y_test, eclf_pred),2)}\")\n",
    "print(f\"Full Featured Random Forest MAE: {np.round(mean_absolute_error(y_test, rf_pred),2)}\")\n",
    "print(f\"Full Featured Voting Regressor MAE: {np.round(mean_absolute_error(y_test, eclf_pred),2)}\")\n",
    "\n",
    "\n",
    "print('\\n')\n",
    "print(f\"Reduced Featured Random Forest MSE: {np.round(mean_squared_error(yr_test, red_rf_pred),2)}\")\n",
    "print(f'Reduced Featured Voting Regressor MSE: {np.round(mean_squared_error(yr_test, red_eclf_pred),2)}')\n",
    "print(f\"Reduced Featured Random Forest MAE: {np.round(mean_absolute_error(yr_test, red_rf_pred),2)}\")\n",
    "print(f'Reduced Featured Voting Regressor MAE: {np.round(mean_absolute_error(yr_test, red_eclf_pred),2)}')"
   ]
  },
  {
   "cell_type": "markdown",
   "metadata": {},
   "source": [
    "As expected (and explained in the PCA section of this repository), the full-featured set performs much better than the reduced featured set. This is primarily because information is lost during PCA and reducing a dataset from 7 features to 1 will inevitable have a dramatic impact on the predictions.\n",
    "\n",
    "Below, we will make use of the dimensionality reduction to plot the predictions. The 'Predicted' set are the predictions from the full featured set, and the 'Predictions Reduced' are the predictions from the reduced set. This allows us to see how the models are interpreting the dataset, and how well they fit. As expected the reduced dataset has much less variance compared to the full featured set. The predicted data, however, follows the true set much better than any singular dataset discussed in the PCA folder of this repository."
   ]
  },
  {
   "cell_type": "code",
   "execution_count": 48,
   "metadata": {},
   "outputs": [
    {
     "data": {
      "text/plain": [
       "Text(0, 0.5, 'label')"
      ]
     },
     "execution_count": 48,
     "metadata": {},
     "output_type": "execute_result"
    },
    {
     "data": {
      "image/png": "[encoded data removed]",
      "text/plain": [
       "<Figure size 1440x720 with 1 Axes>"
      ]
     },
     "metadata": {
      "needs_background": "light"
     },
     "output_type": "display_data"
    }
   ],
   "source": [
    "plt.figure(figsize = (20,10))\n",
    "plt.scatter(Xr_test, y_test, label = \"True\")\n",
    "plt.scatter(Xr_test, eclf.predict(X_test), label = 'Predicted')\n",
    "plt.scatter(Xr_test, eclf2.predict(Xr_test), label = 'Predicted Reduced')\n",
    "\n",
    "plt.legend()\n",
    "plt.xlabel('Feature')\n",
    "plt.ylabel('label')"
   ]
  },
  {
   "cell_type": "markdown",
   "metadata": {},
   "source": [
    "## Phase 4: Model Comparison\n",
    "\n",
    "The scores for classification models are below:\n",
    "- Linear Regression (best of variations: Elastic Net): \n",
    "    - MSE = 69.6\n",
    "    - MAE = 6.02\n",
    "- Gradient Descent: \n",
    "    - MSE = 70.32\n",
    "    - MAE = 6.0\n",
    "- K-Nearest Neighbors Regression (KNN)*: \n",
    "    - MSE = 71.49\n",
    "    - MAE = 6.0\n",
    "- Tree Regression*: \n",
    "    - MSE = 59.15\n",
    "    - MAE = 5.47\n",
    "- Support Vector Machine Regression (SVMR)*: \n",
    "    - MSE = 72.68\n",
    "    - MAE = 6.13\n",
    "- Voting Regressor: \n",
    "    - MSE = 44.26\n",
    "    - MAE = 4.51\n",
    "- Random Forests\n",
    "    - MSE = 41.1\n",
    "    - MAE = 4.21\n",
    "\n",
    "\n",
    "Outside of the ensemble leaerning models, the best performing model was the Decision Tree Regression model with an MSE of 59.15 and an MAE of 5.47. The next best performing model is the linear regression model, followed by gradient descent, KNN, then finally the support vector machine. It is interesting the linear regression model and the gradient descent model have different MSE and MAE values, however this can be due the randomness when shuffling and splitting the data. \n",
    "\n",
    "The Tree Regression model is the best performing, fastest training, and is also easily understood. If we were selecting a model to pursue to further enhance the project, we would select the tree regression model.\n",
    "\n",
    "The best overall models are the ensemble models. The random forests outperform the voting regressor (just as the pure decision tree outperformed the rest), however both are substantially better than any other model discussed. This is as expected as ensemble learning is expected to mitigate the errors from any individual model. While we would have to train and fit each model, increasing our computational and resource costs, the benifits are significant. For this project, we do not have issues with resources or computation time and would therefore use the random forest model. "
   ]
  }
 ],
 "metadata": {
  "interpreter": {
   "hash": "3fb3df0c58a7a1b6822c7137fbe9662821c87d4275a6a5c98a4ab3ac89540dd0"
  },
  "kernelspec": {
   "display_name": "Python 3.9.9 64-bit (windows store)",
   "language": "python",
   "name": "python3"
  },
  "language_info": {
   "codemirror_mode": {
    "name": "ipython",
    "version": 3
   },
   "file_extension": ".py",
   "mimetype": "text/x-python",
   "name": "python",
   "nbconvert_exporter": "python",
   "pygments_lexer": "ipython3",
   "version": "3.9.9"
  },
  "orig_nbformat": 4
 },
 "nbformat": 4,
 "nbformat_minor": 2
}
